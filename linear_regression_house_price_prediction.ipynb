{
 "cells": [
  {
   "cell_type": "code",
   "execution_count": null,
   "id": "587b1772-ad85-44a1-8da9-c339ba1a44d8",
   "metadata": {},
   "outputs": [],
   "source": [
    "import streamlit as st\n",
    "from joblib import load\n",
    "import numpy as np\n",
    "\n",
    "# Load the model\n",
    "model = load('linear_regression_model.joblib')\n",
    "\n",
    "# Create a simple user input\n",
    "user_input = st.number_input('Enter house size:', min_value=100, max_value=10000, step=50)\n",
    "\n",
    "# Reshape the input for the model\n",
    "input_array = np.array([user_input]).reshape(-1, 1)\n",
    "\n",
    "# Predict the house price\n",
    "if st.button('Predict Price'):\n",
    "    predicted_price = model.predict(input_array)\n",
    "    st.write(f\"The predicted house price is: ${predicted_price[0]:.2f}\")"
   ]
  }
 ],
 "metadata": {
  "kernelspec": {
   "display_name": "Python [conda env:base] *",
   "language": "python",
   "name": "conda-base-py"
  },
  "language_info": {
   "codemirror_mode": {
    "name": "ipython",
    "version": 3
   },
   "file_extension": ".py",
   "mimetype": "text/x-python",
   "name": "python",
   "nbconvert_exporter": "python",
   "pygments_lexer": "ipython3",
   "version": "3.12.7"
  }
 },
 "nbformat": 4,
 "nbformat_minor": 5
}
